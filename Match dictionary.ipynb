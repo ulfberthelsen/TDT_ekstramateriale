{
 "cells": [
  {
   "cell_type": "markdown",
   "id": "mobile-ground",
   "metadata": {},
   "source": [
    "# Minieksempel på sentiment analyse"
   ]
  },
  {
   "cell_type": "code",
   "execution_count": 3,
   "id": "meaning-passage",
   "metadata": {},
   "outputs": [
    {
     "name": "stdout",
     "output_type": "stream",
     "text": [
      "Item score: sportsvogn 5\n",
      "Item score: børnecontainer -5\n",
      "Samlet score:  0\n"
     ]
    }
   ],
   "source": [
    "txt = [\"De\", \"har\", \"både\", \"en\", \"sportsvogn\", \"og\", \"en\", \"børnecontainer\"]\n",
    "dict = {\n",
    "    \"bil\": 0,\n",
    "    \"sportsvogn\": 5,\n",
    "    \"børnecontainer\": -5,\n",
    "    \"skrotbunke\":-5\n",
    "}\n",
    "score = 0\n",
    "\n",
    "for w in txt:\n",
    "    for k, v in dict.items():\n",
    "        if w == k:\n",
    "            score = score + v\n",
    "            print(\"Item score:\", k, v)\n",
    "print(\"Samlet score: \", score)\n",
    "            \n"
   ]
  },
  {
   "cell_type": "code",
   "execution_count": null,
   "id": "medical-labor",
   "metadata": {},
   "outputs": [],
   "source": []
  }
 ],
 "metadata": {
  "kernelspec": {
   "display_name": "Python 3",
   "language": "python",
   "name": "python3"
  },
  "language_info": {
   "codemirror_mode": {
    "name": "ipython",
    "version": 3
   },
   "file_extension": ".py",
   "mimetype": "text/x-python",
   "name": "python",
   "nbconvert_exporter": "python",
   "pygments_lexer": "ipython3",
   "version": "3.8.8"
  }
 },
 "nbformat": 4,
 "nbformat_minor": 5
}
